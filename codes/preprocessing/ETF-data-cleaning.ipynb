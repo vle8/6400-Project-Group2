{
 "cells": [
  {
   "cell_type": "markdown",
   "metadata": {},
   "source": [
    "## ETF Preprocessing"
   ]
  },
  {
   "cell_type": "markdown",
   "metadata": {},
   "source": [
    "### Load pandas"
   ]
  },
  {
   "cell_type": "code",
   "execution_count": 22,
   "metadata": {},
   "outputs": [],
   "source": [
    "import pandas as pd "
   ]
  },
  {
   "cell_type": "markdown",
   "metadata": {},
   "source": [
    "### Read in data & output dimensions"
   ]
  },
  {
   "cell_type": "code",
   "execution_count": 23,
   "metadata": {},
   "outputs": [
    {
     "name": "stdout",
     "output_type": "stream",
     "text": [
      "Number of rows: 3866030\n",
      "Number of columns: 8\n"
     ]
    }
   ],
   "source": [
    "df = pd.read_csv('../../data/exchange-trade-funds-prices.csv')\n",
    "print(\"Number of rows:\", df.shape[0])\n",
    "print(\"Number of columns:\", df.shape[1])"
   ]
  },
  {
   "cell_type": "markdown",
   "metadata": {},
   "source": [
    "### Remove empty columns"
   ]
  },
  {
   "cell_type": "code",
   "execution_count": 26,
   "metadata": {},
   "outputs": [],
   "source": [
    "empty_cols2 = [col for col in df.columns if df[col].isnull().all()]\n",
    "df.drop(empty_cols2,axis=1,inplace=True)"
   ]
  },
  {
   "cell_type": "code",
   "execution_count": 27,
   "metadata": {},
   "outputs": [
    {
     "name": "stdout",
     "output_type": "stream",
     "text": [
      "Number of rows: 3866030\n",
      "Number of columns: 8\n"
     ]
    }
   ],
   "source": [
    "print(\"Number of rows:\", df.shape[0])\n",
    "print(\"Number of columns:\", df.shape[1])"
   ]
  },
  {
   "cell_type": "markdown",
   "metadata": {},
   "source": [
    "### Create transaction price variable"
   ]
  },
  {
   "cell_type": "code",
   "execution_count": 28,
   "metadata": {},
   "outputs": [],
   "source": [
    "# approximation of price\n",
    "df['transaction_price'] = df['adj_close']"
   ]
  },
  {
   "cell_type": "markdown",
   "metadata": {},
   "source": [
    "### Create transaction volume variable"
   ]
  },
  {
   "cell_type": "code",
   "execution_count": 29,
   "metadata": {},
   "outputs": [],
   "source": [
    "df['transaction_volume'] = df['volume']"
   ]
  },
  {
   "cell_type": "markdown",
   "metadata": {},
   "source": [
    "### Create transaction value variable"
   ]
  },
  {
   "cell_type": "code",
   "execution_count": 30,
   "metadata": {},
   "outputs": [],
   "source": [
    "df['transaction_value'] = df['transaction_price'] * df['transaction_volume']"
   ]
  },
  {
   "cell_type": "markdown",
   "metadata": {},
   "source": [
    "### Convert date and subset data to 2000-2020"
   ]
  },
  {
   "cell_type": "code",
   "execution_count": 31,
   "metadata": {},
   "outputs": [],
   "source": [
    "df['price_date'] = pd.to_datetime(df['price_date'])"
   ]
  },
  {
   "cell_type": "code",
   "execution_count": 32,
   "metadata": {},
   "outputs": [],
   "source": [
    "start_date = '2000-01-01'\n",
    "end_date = '2020-12-31'"
   ]
  },
  {
   "cell_type": "code",
   "execution_count": 33,
   "metadata": {},
   "outputs": [],
   "source": [
    "new_df = df[(df['price_date'] >= start_date) & (df['price_date'] <= end_date)]"
   ]
  },
  {
   "cell_type": "markdown",
   "metadata": {},
   "source": [
    "### Extract the year"
   ]
  },
  {
   "cell_type": "code",
   "execution_count": 34,
   "metadata": {},
   "outputs": [
    {
     "name": "stderr",
     "output_type": "stream",
     "text": [
      "/var/folders/f6/ng6svcbs3x527pvn9dvrsjjr0000gn/T/ipykernel_51410/713853404.py:1: SettingWithCopyWarning: \n",
      "A value is trying to be set on a copy of a slice from a DataFrame.\n",
      "Try using .loc[row_indexer,col_indexer] = value instead\n",
      "\n",
      "See the caveats in the documentation: https://pandas.pydata.org/pandas-docs/stable/user_guide/indexing.html#returning-a-view-versus-a-copy\n",
      "  new_df.loc[:, 'price_year'] = new_df['price_date'].dt.year\n"
     ]
    }
   ],
   "source": [
    "new_df.loc[:, 'price_year'] = new_df['price_date'].dt.year"
   ]
  },
  {
   "cell_type": "markdown",
   "metadata": {},
   "source": [
    "### Calculate the daily return - used for loss and risk"
   ]
  },
  {
   "cell_type": "code",
   "execution_count": 35,
   "metadata": {},
   "outputs": [
    {
     "name": "stderr",
     "output_type": "stream",
     "text": [
      "/var/folders/f6/ng6svcbs3x527pvn9dvrsjjr0000gn/T/ipykernel_51410/847404955.py:1: SettingWithCopyWarning: \n",
      "A value is trying to be set on a copy of a slice from a DataFrame.\n",
      "Try using .loc[row_indexer,col_indexer] = value instead\n",
      "\n",
      "See the caveats in the documentation: https://pandas.pydata.org/pandas-docs/stable/user_guide/indexing.html#returning-a-view-versus-a-copy\n",
      "  new_df.loc[:, 'daily_return'] = new_df.groupby('fund_symbol')['close'].pct_change()\n"
     ]
    }
   ],
   "source": [
    "new_df.loc[:, 'daily_return'] = new_df.groupby('fund_symbol')['close'].pct_change()\n"
   ]
  },
  {
   "cell_type": "markdown",
   "metadata": {},
   "source": [
    "### Aggregate by fund and year"
   ]
  },
  {
   "cell_type": "code",
   "execution_count": 38,
   "metadata": {},
   "outputs": [],
   "source": [
    "aggregated_df = new_df.groupby(['fund_symbol', 'price_year']).agg({\n",
    "    'open': 'mean',\n",
    "    'high': 'mean',\n",
    "    'low': 'mean',\n",
    "    'close': 'mean',\n",
    "    'adj_close': 'mean',\n",
    "    'transaction_price': 'mean',\n",
    "    'transaction_volume': 'mean',\n",
    "    'transaction_value': 'mean',\n",
    "    'daily_return': ['std', 'min']\n",
    "}).reset_index()"
   ]
  },
  {
   "cell_type": "markdown",
   "metadata": {},
   "source": [
    "### Rename columns"
   ]
  },
  {
   "cell_type": "code",
   "execution_count": 39,
   "metadata": {},
   "outputs": [],
   "source": [
    "aggregated_df.columns = ['fund_symbol', 'price_year', 'avg_open', 'avg_high', 'avg_low', 'avg_close', 'avg_adj_close', 'avg_transaction_price', 'avg_transaction_volume', 'avg_transaction_value', 'yearly_risk', 'yearly_loss']"
   ]
  },
  {
   "cell_type": "markdown",
   "metadata": {},
   "source": [
    "### Check dimensions"
   ]
  },
  {
   "cell_type": "code",
   "execution_count": 40,
   "metadata": {},
   "outputs": [
    {
     "name": "stdout",
     "output_type": "stream",
     "text": [
      "Number of rows: 14396\n",
      "Number of columns: 12\n"
     ]
    }
   ],
   "source": [
    "print(\"Number of rows:\", aggregated_df.shape[0])\n",
    "print(\"Number of columns:\", aggregated_df.shape[1])"
   ]
  },
  {
   "cell_type": "markdown",
   "metadata": {},
   "source": [
    "### Preview data"
   ]
  },
  {
   "cell_type": "code",
   "execution_count": 41,
   "metadata": {},
   "outputs": [
    {
     "data": {
      "text/html": [
       "<div>\n",
       "<style scoped>\n",
       "    .dataframe tbody tr th:only-of-type {\n",
       "        vertical-align: middle;\n",
       "    }\n",
       "\n",
       "    .dataframe tbody tr th {\n",
       "        vertical-align: top;\n",
       "    }\n",
       "\n",
       "    .dataframe thead th {\n",
       "        text-align: right;\n",
       "    }\n",
       "</style>\n",
       "<table border=\"1\" class=\"dataframe\">\n",
       "  <thead>\n",
       "    <tr style=\"text-align: right;\">\n",
       "      <th></th>\n",
       "      <th>fund_symbol</th>\n",
       "      <th>price_year</th>\n",
       "      <th>avg_open</th>\n",
       "      <th>avg_high</th>\n",
       "      <th>avg_low</th>\n",
       "      <th>avg_close</th>\n",
       "      <th>avg_adj_close</th>\n",
       "      <th>avg_transaction_price</th>\n",
       "      <th>avg_transaction_volume</th>\n",
       "      <th>avg_transaction_value</th>\n",
       "      <th>yearly_risk</th>\n",
       "      <th>yearly_loss</th>\n",
       "    </tr>\n",
       "  </thead>\n",
       "  <tbody>\n",
       "    <tr>\n",
       "      <th>0</th>\n",
       "      <td>AAA</td>\n",
       "      <td>2020</td>\n",
       "      <td>24.989500</td>\n",
       "      <td>24.996000</td>\n",
       "      <td>24.985000</td>\n",
       "      <td>24.988750</td>\n",
       "      <td>24.799375</td>\n",
       "      <td>24.799375</td>\n",
       "      <td>6360.000000</td>\n",
       "      <td>1.575589e+05</td>\n",
       "      <td>0.000700</td>\n",
       "      <td>-0.002405</td>\n",
       "    </tr>\n",
       "    <tr>\n",
       "      <th>1</th>\n",
       "      <td>AAAU</td>\n",
       "      <td>2018</td>\n",
       "      <td>12.182737</td>\n",
       "      <td>12.229579</td>\n",
       "      <td>12.148947</td>\n",
       "      <td>12.171579</td>\n",
       "      <td>12.171579</td>\n",
       "      <td>12.171579</td>\n",
       "      <td>103495.789474</td>\n",
       "      <td>1.252533e+06</td>\n",
       "      <td>0.006177</td>\n",
       "      <td>-0.012490</td>\n",
       "    </tr>\n",
       "    <tr>\n",
       "      <th>2</th>\n",
       "      <td>AAAU</td>\n",
       "      <td>2019</td>\n",
       "      <td>13.921230</td>\n",
       "      <td>13.968056</td>\n",
       "      <td>13.873294</td>\n",
       "      <td>13.920317</td>\n",
       "      <td>13.920317</td>\n",
       "      <td>13.920317</td>\n",
       "      <td>57093.650794</td>\n",
       "      <td>8.173461e+05</td>\n",
       "      <td>0.007424</td>\n",
       "      <td>-0.023196</td>\n",
       "    </tr>\n",
       "    <tr>\n",
       "      <th>3</th>\n",
       "      <td>AAAU</td>\n",
       "      <td>2020</td>\n",
       "      <td>17.696047</td>\n",
       "      <td>17.776917</td>\n",
       "      <td>17.577036</td>\n",
       "      <td>17.681818</td>\n",
       "      <td>17.681818</td>\n",
       "      <td>17.681818</td>\n",
       "      <td>411806.719368</td>\n",
       "      <td>7.529092e+06</td>\n",
       "      <td>0.012494</td>\n",
       "      <td>-0.054978</td>\n",
       "    </tr>\n",
       "    <tr>\n",
       "      <th>4</th>\n",
       "      <td>AADR</td>\n",
       "      <td>2010</td>\n",
       "      <td>27.727478</td>\n",
       "      <td>27.799913</td>\n",
       "      <td>27.633565</td>\n",
       "      <td>27.734522</td>\n",
       "      <td>26.044261</td>\n",
       "      <td>26.044261</td>\n",
       "      <td>5478.260870</td>\n",
       "      <td>1.424816e+05</td>\n",
       "      <td>0.009560</td>\n",
       "      <td>-0.034893</td>\n",
       "    </tr>\n",
       "  </tbody>\n",
       "</table>\n",
       "</div>"
      ],
      "text/plain": [
       "  fund_symbol  price_year   avg_open   avg_high    avg_low  avg_close  \\\n",
       "0         AAA        2020  24.989500  24.996000  24.985000  24.988750   \n",
       "1        AAAU        2018  12.182737  12.229579  12.148947  12.171579   \n",
       "2        AAAU        2019  13.921230  13.968056  13.873294  13.920317   \n",
       "3        AAAU        2020  17.696047  17.776917  17.577036  17.681818   \n",
       "4        AADR        2010  27.727478  27.799913  27.633565  27.734522   \n",
       "\n",
       "   avg_adj_close  avg_transaction_price  avg_transaction_volume  \\\n",
       "0      24.799375              24.799375             6360.000000   \n",
       "1      12.171579              12.171579           103495.789474   \n",
       "2      13.920317              13.920317            57093.650794   \n",
       "3      17.681818              17.681818           411806.719368   \n",
       "4      26.044261              26.044261             5478.260870   \n",
       "\n",
       "   avg_transaction_value  yearly_risk  yearly_loss  \n",
       "0           1.575589e+05     0.000700    -0.002405  \n",
       "1           1.252533e+06     0.006177    -0.012490  \n",
       "2           8.173461e+05     0.007424    -0.023196  \n",
       "3           7.529092e+06     0.012494    -0.054978  \n",
       "4           1.424816e+05     0.009560    -0.034893  "
      ]
     },
     "execution_count": 41,
     "metadata": {},
     "output_type": "execute_result"
    }
   ],
   "source": [
    "aggregated_df.head()"
   ]
  },
  {
   "cell_type": "markdown",
   "metadata": {},
   "source": [
    "### Save dataset"
   ]
  },
  {
   "cell_type": "code",
   "execution_count": 42,
   "metadata": {},
   "outputs": [],
   "source": [
    "aggregated_df.to_csv('../../data/cleaned-yearly-ETFs.csv', index=False)"
   ]
  }
 ],
 "metadata": {
  "kernelspec": {
   "display_name": ".venv",
   "language": "python",
   "name": "python3"
  },
  "language_info": {
   "codemirror_mode": {
    "name": "ipython",
    "version": 3
   },
   "file_extension": ".py",
   "mimetype": "text/x-python",
   "name": "python",
   "nbconvert_exporter": "python",
   "pygments_lexer": "ipython3",
   "version": "3.11.5"
  }
 },
 "nbformat": 4,
 "nbformat_minor": 2
}
