{
 "cells": [
  {
   "cell_type": "markdown",
   "metadata": {},
   "source": [
    "# Phase II: Simulation\n",
    "## Package Import"
   ]
  },
  {
   "cell_type": "code",
   "execution_count": 1,
   "metadata": {},
   "outputs": [],
   "source": [
    "import pandas as pd\n",
    "import numpy as np"
   ]
  },
  {
   "cell_type": "markdown",
   "metadata": {},
   "source": [
    "## Data Import"
   ]
  },
  {
   "cell_type": "code",
   "execution_count": null,
   "metadata": {},
   "outputs": [],
   "source": []
  },
  {
   "cell_type": "markdown",
   "metadata": {},
   "source": [
    "## Model Import"
   ]
  },
  {
   "cell_type": "code",
   "execution_count": null,
   "metadata": {},
   "outputs": [],
   "source": []
  },
  {
   "cell_type": "markdown",
   "metadata": {},
   "source": [
    "## Simulation"
   ]
  },
  {
   "cell_type": "code",
   "execution_count": null,
   "metadata": {},
   "outputs": [],
   "source": [
    "n = 1000\n",
    "\n",
    "# random transaction generation: volume and price\n",
    "np.random.seed(42)\n",
    "transaction_vol = np.random.randint(1, 1000, n) \n",
    "transaction_price = df['Close'].sample(n, replace=True).values \n",
    "\n",
    "# transaction simulation df\n",
    "transactions = pd.DataFrame({\n",
    "    'Volume': transaction_vol,\n",
    "    'Price': transaction_price,\n",
    "    'Value': transaction_vol * transaction_price\n",
    "})\n",
    "\n",
    "print(transactions.head())"
   ]
  },
  {
   "cell_type": "markdown",
   "metadata": {},
   "source": [
    "## Value-at-Risk Calculation"
   ]
  },
  {
   "cell_type": "code",
   "execution_count": null,
   "metadata": {},
   "outputs": [],
   "source": [
    "# Paramaters\n",
    "returns = df['returns']\n",
    "confidence_level = 0.95\n",
    "\n",
    "# Get historical VaR\n",
    "var = np.percentile(returns, (1 - confidence_level) * 100)\n",
    "\n",
    "# Get simulation VaR\n",
    "var_sim = var * transactions['transaction_value'].sum()\n",
    "\n",
    "print(\"Value at Risk at 95% confidence: \", var_sim)\n"
   ]
  },
  {
   "cell_type": "markdown",
   "metadata": {},
   "source": [
    "# Stress Test"
   ]
  },
  {
   "cell_type": "code",
   "execution_count": null,
   "metadata": {},
   "outputs": [],
   "source": [
    "stress = -0.10\n",
    "\n",
    "# Stress loss per transaction\n",
    "transactions['stress_loss'] = transactions['transaction_value'] * stress\n",
    "\n",
    "# Get total stress loss\n",
    "stress_loss = transactions['stress_loss'].sum()\n",
    "print(\"Stress Loss under a 10% market drop: \", stress_loss)\n"
   ]
  },
  {
   "cell_type": "markdown",
   "metadata": {},
   "source": [
    "## Model Risk Prediction"
   ]
  },
  {
   "cell_type": "code",
   "execution_count": null,
   "metadata": {},
   "outputs": [],
   "source": []
  }
 ],
 "metadata": {
  "kernelspec": {
   "display_name": "Python 3",
   "language": "python",
   "name": "python3"
  },
  "language_info": {
   "codemirror_mode": {
    "name": "ipython",
    "version": 3
   },
   "file_extension": ".py",
   "mimetype": "text/x-python",
   "name": "python",
   "nbconvert_exporter": "python",
   "pygments_lexer": "ipython3",
   "version": "3.11.9"
  }
 },
 "nbformat": 4,
 "nbformat_minor": 2
}
